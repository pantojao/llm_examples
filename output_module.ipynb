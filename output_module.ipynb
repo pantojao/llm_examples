{
 "cells": [
  {
   "cell_type": "code",
   "execution_count": 3,
   "id": "66e0527a-13eb-4b41-9154-e7b998e3dabb",
   "metadata": {},
   "outputs": [],
   "source": [
    "import os\n",
    "import openai\n",
    "import sys\n",
    "sys.path.append('../..')\n",
    "\n",
    "from dotenv import load_dotenv, find_dotenv\n",
    "_ = load_dotenv(find_dotenv()) # read local .env file\n",
    "\n",
    "openai.api_key  = os.environ['OPENAI_API_KEY']"
   ]
  },
  {
   "cell_type": "code",
   "execution_count": 10,
   "id": "052e8e05-38bb-4645-b528-9f2098651dda",
   "metadata": {
    "tags": []
   },
   "outputs": [],
   "source": [
    "from langchain.document_loaders import PyPDFLoader\n",
    "\n",
    "# Load PDF\n",
    "loaders = [\n",
    "    PyPDFLoader(\"docs/Collibra-Output-Module-2022.06.pdf\"),\n",
    "]\n",
    "\n",
    "docs = []\n",
    "for loader in loaders:\n",
    "    docs.extend(loader.load())"
   ]
  },
  {
   "cell_type": "code",
   "execution_count": 11,
   "id": "46020f3c-0909-422c-9e30-b3bf54316650",
   "metadata": {},
   "outputs": [],
   "source": [
    "# Split\n",
    "from langchain.text_splitter import RecursiveCharacterTextSplitter\n",
    "text_splitter = RecursiveCharacterTextSplitter(\n",
    "    chunk_size = 1500,\n",
    "    chunk_overlap = 150\n",
    ")"
   ]
  },
  {
   "cell_type": "code",
   "execution_count": 12,
   "id": "166d16c7-5897-4bd3-b296-731137554896",
   "metadata": {},
   "outputs": [],
   "source": [
    "splits = text_splitter.split_documents(docs)"
   ]
  },
  {
   "cell_type": "code",
   "execution_count": 13,
   "id": "d1141961-09b5-4ff7-8077-dc2ad041e754",
   "metadata": {},
   "outputs": [
    {
     "data": {
      "text/plain": [
       "114"
      ]
     },
     "execution_count": 13,
     "metadata": {},
     "output_type": "execute_result"
    }
   ],
   "source": [
    "len(splits)"
   ]
  },
  {
   "cell_type": "code",
   "execution_count": 22,
   "id": "c382c455-c61a-4179-ae69-c7e13783f071",
   "metadata": {},
   "outputs": [
    {
     "name": "stdout",
     "output_type": "stream",
     "text": [
      "page_content='linkType Thisparameter allowsspecifying thepaththatshouldbe\\nfollowed fromtheparentresource toauser.Whenthe\\nparentresource isresponsibility orgroup,linkType is\\nnotusedandtherelationship definedforresponsibility or\\ngroupisused.Whenauseristheparentnode,linkType\\ndetermines therelationship withthechildresources that\\nhaveacreatedorlastmodified kindofrelationship. See\\nrelations above.Thepossible valuesareCREATED,\\nMODIFIED, \"CREATED_ OR_MODIFIED orCREATED\\nORMODIFIED. CREATED_ OR_MODIFIED isthedefault\\nvalue,butcanonlybeusedwhenUserisrootofthequery\\ntree.\\xa0CREATED_ OR_MODIFIED turnsintoasimple\\nCREATED whenUserisnottherootofthequery.\\nEmail\\nExtends Resource\\nEmailrepresents oneoftheuser\\'semailaddresses. Itcanonlybeusedasachildofthe\\nuserser.\\nProperties\\nemailAddress Text Theemailaddress.\\nPhone\\nExtends Resource\\nPhonerepresents oneoftheuser\\'sphonenumbers. Itcanonlybeusedasachildofthe\\nuser.\\nPropertiesChapter 6\\n95' metadata={'source': 'docs/Collibra-Output-Module-2022.06.pdf', 'page': 100}\n"
     ]
    }
   ],
   "source": [
    "print(splits[100])"
   ]
  },
  {
   "cell_type": "code",
   "execution_count": 19,
   "id": "482f0aee-6539-4886-b160-dbb6fd7ef875",
   "metadata": {},
   "outputs": [],
   "source": [
    "from langchain.embeddings.openai import OpenAIEmbeddings\n",
    "embedding = OpenAIEmbeddings()"
   ]
  },
  {
   "cell_type": "code",
   "execution_count": 20,
   "id": "5cd614b3-4104-462d-a1cb-cd312f86c412",
   "metadata": {},
   "outputs": [],
   "source": [
    "from langchain.vectorstores import Chroma"
   ]
  },
  {
   "cell_type": "code",
   "execution_count": 21,
   "id": "f3f9b418-c731-489f-a63c-c2048cbbe42e",
   "metadata": {},
   "outputs": [],
   "source": [
    "persist_directory = 'docs/chroma/'"
   ]
  },
  {
   "cell_type": "code",
   "execution_count": 23,
   "id": "a14961fd-d1c3-4208-b448-fd7f75175f66",
   "metadata": {},
   "outputs": [],
   "source": [
    "!rm -rf ./docs/chroma  # remove old database files if any"
   ]
  },
  {
   "cell_type": "code",
   "execution_count": 26,
   "id": "4c1403ec-d529-4793-9628-0e1d010a4ef9",
   "metadata": {},
   "outputs": [],
   "source": [
    "vectordb = Chroma.from_documents(\n",
    "    documents=splits,\n",
    "    embedding=embedding,\n",
    "    persist_directory=persist_directory\n",
    ")"
   ]
  },
  {
   "cell_type": "code",
   "execution_count": 27,
   "id": "47a2a44c-441c-4728-878a-895a066c9c2f",
   "metadata": {},
   "outputs": [
    {
     "name": "stdout",
     "output_type": "stream",
     "text": [
      "114\n"
     ]
    }
   ],
   "source": [
    "print(vectordb._collection.count())"
   ]
  },
  {
   "cell_type": "code",
   "execution_count": 32,
   "id": "4fea0d3c-353c-4158-9e80-c6ca1bebd06b",
   "metadata": {},
   "outputs": [],
   "source": [
    "question = \"What is the output module in Collibra?\""
   ]
  },
  {
   "cell_type": "code",
   "execution_count": 33,
   "id": "d7630f31-7b34-4871-b9ba-059a55062c84",
   "metadata": {},
   "outputs": [],
   "source": [
    "docs = vectordb.similarity_search(question,k=3)"
   ]
  },
  {
   "cell_type": "code",
   "execution_count": 34,
   "id": "2d29f2cc-7053-49dd-8a39-d2971a40f62a",
   "metadata": {},
   "outputs": [
    {
     "data": {
      "text/plain": [
       "3"
      ]
     },
     "execution_count": 34,
     "metadata": {},
     "output_type": "execute_result"
    }
   ],
   "source": [
    "len(docs)"
   ]
  },
  {
   "cell_type": "code",
   "execution_count": 35,
   "id": "2e5f4f76-0ab4-4bcb-9667-e18f2c5b7eb4",
   "metadata": {},
   "outputs": [
    {
     "data": {
      "text/plain": [
       "'iTheHitchhiker’s GuidetotheOutputModule\\nRevision: 02Jun2022\\nYoucanfindthemostup-to-datetechnical documentation onourDeveloper portalat\\nhttps://developer.collibra.com/rest/output- module/\\n©2022Collibra.AllRightsReserved.'"
      ]
     },
     "execution_count": 35,
     "metadata": {},
     "output_type": "execute_result"
    }
   ],
   "source": [
    "docs[0].page_content"
   ]
  },
  {
   "cell_type": "code",
   "execution_count": 37,
   "id": "717f1830-1fec-4c3b-a6a6-baf1b1715b72",
   "metadata": {},
   "outputs": [
    {
     "name": "stdout",
     "output_type": "stream",
     "text": [
      "[Document(page_content='iTheHitchhiker’s GuidetotheOutputModule\\nRevision: 02Jun2022\\nYoucanfindthemostup-to-datetechnical documentation onourDeveloper portalat\\nhttps://developer.collibra.com/rest/output- module/\\n©2022Collibra.AllRightsReserved.', metadata={'page': 1, 'source': 'docs/Collibra-Output-Module-2022.06.pdf'}), Document(page_content='2Introduction\\nTheOutputModuleisalightweight graphqueryengineexposed throughthepublicAPI.It\\nallowsdifferent outputformats, suchasJSON,XML,Excel,andCSV.Italsoprovides a\\nsingleAPItoquerymostoftheCollibraentities,suchasassets,communities, domains\\nandtypes,usingSQL-likefilteringcapabilities. Youcansortentitiesusinganyofthe\\navailable properties andpageresultsandviewpermissions forauthenticated userswho\\nissueRESTcalls.Chapter 2', metadata={'page': 7, 'source': 'docs/Collibra-Output-Module-2022.06.pdf'}), Document(page_content='3Prerequisites\\nBeforeyoubeginusingthequerylanguage usedintheOutputModule, youmust\\nunderstand theCollibraAPImodelandhowtoexecuteRESTcalls.Thisguideshows\\nexamples thatquerytheRESTAPIbutdoesnotexplainhowtoexecuteRESTcalls.Refer\\ntoexternal onlineresources fortutorialsandinstructional resources.\\nTerminology\\nTheCollibraAPImodelwasbasedontheSemantics ofBusiness Vocabulary andRules\\n(SBVR)standard. Overtime,theuserinterface adopted asimplerterminology setthat\\nalignswithCollibraconcepts. Sinceversion2021.09 (5.7.10foron-premisses), theOutput\\nModuleAPIusesthesameterminology astheuserinterface whilethelegacyoneis\\ndeprecated.\\nThefollowing tableliststherenamed terminology:\\nDeprecated Current\\nTerm Asset\\nConceptType AssetType\\nConceptTypeSpecializedConcepts ChildAssetTypes\\nVocabulary Domain\\nVocabularyType DomainType\\nVocabularyTypeSpecializedConcepts ChildDomainTypes\\nSource SourceAssetChapter 3', metadata={'page': 8, 'source': 'docs/Collibra-Output-Module-2022.06.pdf'})]\n"
     ]
    }
   ],
   "source": [
    "print(docs)"
   ]
  },
  {
   "cell_type": "code",
   "execution_count": 38,
   "id": "5042e57b-2d90-47fe-82e4-69bf88072771",
   "metadata": {},
   "outputs": [],
   "source": [
    "vectordb.persist()"
   ]
  },
  {
   "cell_type": "code",
   "execution_count": 46,
   "id": "a6cef66d-7fb2-441c-b662-36e3d8c2f222",
   "metadata": {},
   "outputs": [],
   "source": [
    "from langchain.vectorstores import Chroma\n",
    "from langchain.embeddings.openai import OpenAIEmbeddings\n",
    "from langchain.retrievers import ContextualCompressionRetriever\n",
    "from langchain.retrievers.document_compressors import LLMChainExtractor\n",
    "from langchain.llms import OpenAI"
   ]
  },
  {
   "cell_type": "code",
   "execution_count": 43,
   "id": "d33888fe-36e8-4bef-902f-ac23cebd6dae",
   "metadata": {},
   "outputs": [],
   "source": [
    "embedding = OpenAIEmbeddings()\n",
    "vectordb = Chroma(\n",
    "    persist_directory=persist_directory,\n",
    "    embedding_function=embedding\n",
    ")"
   ]
  },
  {
   "cell_type": "code",
   "execution_count": 44,
   "id": "5354fc33-ac72-4eec-a3d1-83b182645f49",
   "metadata": {},
   "outputs": [],
   "source": [
    "def pretty_print_docs(docs):\n",
    "    print(f\"\\n{'-' * 100}\\n\".join([f\"Document {i+1}:\\n\\n\" + d.page_content for i, d in enumerate(docs)]))\n"
   ]
  },
  {
   "cell_type": "code",
   "execution_count": 47,
   "id": "989354d2-ff03-4167-80b5-18339e280b28",
   "metadata": {},
   "outputs": [],
   "source": [
    "llm = OpenAI(temperature=0)\n",
    "compressor = LLMChainExtractor.from_llm(llm)"
   ]
  },
  {
   "cell_type": "code",
   "execution_count": 53,
   "id": "8cf0cf92-5a45-4dd3-9abb-87473f287a3d",
   "metadata": {},
   "outputs": [],
   "source": [
    "compression_retriever = ContextualCompressionRetriever(\n",
    "    base_compressor=compressor,\n",
    "    base_retriever=vectordb.as_retriever(search_type = \"mmr\")\n",
    ")"
   ]
  },
  {
   "cell_type": "code",
   "execution_count": 54,
   "id": "a804cf31-5599-46b5-8392-fe7eb27c1732",
   "metadata": {},
   "outputs": [
    {
     "name": "stdout",
     "output_type": "stream",
     "text": [
      "Document 1:\n",
      "\n",
      "OutputModule\n",
      "----------------------------------------------------------------------------------------------------\n",
      "Document 2:\n",
      "\n",
      "\"You can find the most up-to-date technical documentation on our Developer portal at https://developer.collibra.com/rest/output-module/\"\n",
      "----------------------------------------------------------------------------------------------------\n",
      "Document 3:\n",
      "\n",
      "\"The Output Module is a lightweight graph query engine exposed through the public API.\"\n"
     ]
    }
   ],
   "source": [
    "question = \"What is the output module?\"\n",
    "compressed_docs = compression_retriever.get_relevant_documents(question)\n",
    "pretty_print_docs(compressed_docs)"
   ]
  },
  {
   "cell_type": "code",
   "execution_count": 55,
   "id": "da93e714-a973-4801-878c-e72162e7f5b2",
   "metadata": {},
   "outputs": [
    {
     "name": "stdout",
     "output_type": "stream",
     "text": [
      "gpt-3.5-turbo-0301\n"
     ]
    }
   ],
   "source": [
    "import datetime\n",
    "current_date = datetime.datetime.now().date()\n",
    "if current_date < datetime.date(2023, 9, 2):\n",
    "    llm_name = \"gpt-3.5-turbo-0301\"\n",
    "else:\n",
    "    llm_name = \"gpt-3.5-turbo\"\n",
    "print(llm_name)"
   ]
  },
  {
   "cell_type": "code",
   "execution_count": 56,
   "id": "c8e93bd2-7143-4425-905f-4198c6ece5ca",
   "metadata": {},
   "outputs": [],
   "source": [
    "from langchain.vectorstores import Chroma\n",
    "from langchain.embeddings.openai import OpenAIEmbeddings\n",
    "persist_directory = 'docs/chroma/'\n",
    "embedding = OpenAIEmbeddings()\n",
    "vectordb = Chroma(persist_directory=persist_directory, embedding_function=embedding)"
   ]
  },
  {
   "cell_type": "code",
   "execution_count": 57,
   "id": "eaba269e-3758-4202-83a7-838885cc4db4",
   "metadata": {},
   "outputs": [],
   "source": [
    "from langchain.chat_models import ChatOpenAI\n",
    "llm = ChatOpenAI(model_name=llm_name, temperature=0)"
   ]
  },
  {
   "cell_type": "code",
   "execution_count": 58,
   "id": "d58362f5-be50-42db-a732-c22b343ab2e4",
   "metadata": {},
   "outputs": [],
   "source": [
    "from langchain.chains import RetrievalQA"
   ]
  },
  {
   "cell_type": "code",
   "execution_count": 62,
   "id": "7007771b-c3ca-46f0-a1e5-193a660e6c09",
   "metadata": {},
   "outputs": [],
   "source": [
    "question = \"Create an output query that can find the communities with the name JP test\""
   ]
  },
  {
   "cell_type": "code",
   "execution_count": 63,
   "id": "676f0c5b-658d-4ee3-88d1-806ff280a203",
   "metadata": {},
   "outputs": [],
   "source": [
    "qa_chain = RetrievalQA.from_chain_type(\n",
    "    llm,\n",
    "    retriever=vectordb.as_retriever()\n",
    ")"
   ]
  },
  {
   "cell_type": "code",
   "execution_count": 64,
   "id": "0689c8ba-7279-4ad8-9052-21fe1432eafb",
   "metadata": {},
   "outputs": [],
   "source": [
    "result = qa_chain({\"query\": question})"
   ]
  },
  {
   "cell_type": "code",
   "execution_count": 65,
   "id": "50a2ce2b-acc9-4f06-83ea-3007a2b122a6",
   "metadata": {},
   "outputs": [
    {
     "data": {
      "text/plain": [
       "'Here\\'s an example of an output query that can find the communities with the name \"JP test\":\\n\\nJSON\\n{\\n  \"ViewConfig\": {\\n    \"Columns\": [\\n      {\\n        \"name\": \"Community ID\",\\n        \"property\": \"communityId\"\\n      },\\n      {\\n        \"name\": \"Community Name\",\\n        \"property\": \"communityName\"\\n      }\\n    ],\\n    \"Resources\": {\\n      \"Community\": {\\n        \"name\": \"Communities\",\\n        \"filters\": [\\n          {\\n            \"property\": \"communityName\",\\n            \"operator\": \"equals\",\\n            \"value\": \"JP test\"\\n          }\\n        ],\\n        \"Id\": {\\n          \"name\": \"communityId\"\\n        },\\n        \"Name\": {\\n          \"name\": \"communityName\"\\n        }\\n      }\\n    }\\n  }\\n}\\n\\nThis query will return a table with the Community ID and Community Name columns for all communities with the name \"JP test\". You can use this query with the following endpoints:\\n\\n- {{domain}}/rest/2.0/outputModule/export/json\\n- {{domain}}/rest/2.0/outputModule/export/csv\\n- {{domain}}/rest/2.0/outputModule/export/excel-file'"
      ]
     },
     "execution_count": 65,
     "metadata": {},
     "output_type": "execute_result"
    }
   ],
   "source": [
    "result[\"result\"]"
   ]
  },
  {
   "cell_type": "code",
   "execution_count": null,
   "id": "8d0b2cdd-d31c-437f-a566-deb14b6c6c16",
   "metadata": {},
   "outputs": [],
   "source": []
  }
 ],
 "metadata": {
  "kernelspec": {
   "display_name": ".venv",
   "language": "python",
   "name": ".venv"
  },
  "language_info": {
   "codemirror_mode": {
    "name": "ipython",
    "version": 3
   },
   "file_extension": ".py",
   "mimetype": "text/x-python",
   "name": "python",
   "nbconvert_exporter": "python",
   "pygments_lexer": "ipython3",
   "version": "3.9.12"
  }
 },
 "nbformat": 4,
 "nbformat_minor": 5
}
