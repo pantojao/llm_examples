{
 "cells": [
  {
   "cell_type": "code",
   "execution_count": 159,
   "id": "ce0ab6e3-492d-4e22-a830-b8c4fcc77253",
   "metadata": {
    "tags": []
   },
   "outputs": [],
   "source": [
    "from langchain.tools import OpenAPISpec, APIOperation\n",
    "from langchain.chains import OpenAPIEndpointChain\n",
    "from langchain.requests import Requests\n",
    "from langchain.llms import OpenAI\n",
    "from langchain.chat_models import ChatOpenAI\n",
    "from langchain.prompts.chat import (\n",
    "    ChatPromptTemplate,\n",
    "    SystemMessagePromptTemplate,\n",
    "    HumanMessagePromptTemplate,\n",
    ")\n",
    "from langchain.chains import LLMChain\n",
    "from langchain.schema import BaseOutputParser"
   ]
  },
  {
   "cell_type": "code",
   "execution_count": 160,
   "id": "513471eb-29ba-464f-afe8-895e486ad850",
   "metadata": {},
   "outputs": [],
   "source": [
    "from dotenv import load_dotenv, find_dotenv\n",
    "_ = load_dotenv(find_dotenv()) # read local .env file\n",
    "\n",
    "openai.api_key  = os.environ['OPENAI_API_KEY']\n",
    "llm = OpenAI(temperature=0)"
   ]
  },
  {
   "cell_type": "code",
   "execution_count": 151,
   "id": "f7f69414-848c-4b14-95d1-2711458dfe8b",
   "metadata": {
    "tags": []
   },
   "outputs": [
    {
     "name": "stderr",
     "output_type": "stream",
     "text": [
      "Attempting to load an OpenAPI 3.0.1 spec.  This may result in degraded performance. Convert your OpenAPI spec to 3.1.* spec for better support.\n"
     ]
    }
   ],
   "source": [
    "openapi_chain = get_openapi_chain(\n",
    "    \"https://www.klarna.com/us/shopping/public/openai/v0/api-docs/\"\n",
    ")"
   ]
  },
  {
   "cell_type": "code",
   "execution_count": 152,
   "id": "cd08f28b-d229-4fc2-8039-be3399767270",
   "metadata": {},
   "outputs": [],
   "source": [
    "question = \"What is the most recommended shoe brand?\""
   ]
  },
  {
   "cell_type": "code",
   "execution_count": 153,
   "id": "c1976f54-b6d6-423f-b774-c4ad25c90476",
   "metadata": {},
   "outputs": [],
   "source": [
    "query_response = openapi_chain.run(question)"
   ]
  },
  {
   "cell_type": "code",
   "execution_count": 154,
   "id": "5b05c75b-9480-4a8d-89fb-e8750fa642cc",
   "metadata": {},
   "outputs": [
    {
     "name": "stdout",
     "output_type": "stream",
     "text": [
      "{'products': [{'name': 'Jordan Retro Mens Shoes', 'url': 'https://www.klarna.com/us/shopping/pl/cl337/3207231308/Shoes/Jordan-Retro-Mens-Shoes/?utm_source=openai&ref-site=openai_plugin', 'price': '$209.99', 'attributes': ['Outsole:Rubber', 'Fastening:Laced', 'Color:White,Yellow,Black', 'Upper Material:Leather', 'Size (US):11,9.5,12,15,11.5,10.5,7,8,9,7.5,8.5,12.5,10', 'Series:Nike Air Jordan,Nike Air Jordan 1']}, {'name': 'Nike Dunk Low W - White/Black', 'url': 'https://www.klarna.com/us/shopping/pl/cl337/3200134705/Shoes/Nike-Dunk-Low-W-White-Black/?utm_source=openai&ref-site=openai_plugin', 'price': '$110.00', 'attributes': ['Outsole:Rubber', 'Fastening:Laced', 'Midsole:Foam', 'Target Group:Woman', 'Color:Black', 'Upper Material:Leather', 'Size (US):9.5,10,11,12,13,14,15,16,17,18,11.5,10.5,2,3,4,5,6,7,8,9,2.5,3.5,4.5,16.5,5.5,15.5,6.5,14.5,13.5,7.5,8.5,12.5', 'Series:Nike Dunk']}, {'name': 'Nike Dunk Low Panda M - Black/White', 'url': 'https://www.klarna.com/us/shopping/pl/cl337/3200177969/Shoes/Nike-Dunk-Low-Panda-M-Black-White/?utm_source=openai&ref-site=openai_plugin', 'price': '$124.00', 'attributes': ['Outsole:Rubber', 'Fastening:Laced', 'Target Group:Man', 'Color:White', 'Upper Material:Leather', 'Size (US):9.5,10,11,12,13,14,15,16,17,18,11.5,10.5,2,3,4,5,6,7,8,9,2.5,3.5,4.5,16.5,5.5,15.5,6.5,14.5,13.5,7.5,8.5,12.5', 'Series:Nike Dunk']}, {'name': \"Nike Air Force 1 '07 M - White\", 'url': 'https://www.klarna.com/us/shopping/pl/cl337/3979297/Shoes/Nike-Air-Force-1-07-M-White/?utm_source=openai&ref-site=openai_plugin', 'price': '$76.50', 'attributes': ['Outsole:Rubber', 'Fastening:Laced', 'Midsole:Foam', 'Target Group:Man', 'Color:White', 'Upper Material:Synthetic,Leather', 'Size (US):9.5,10,11,12,13,14,15,16,17,11.5,10.5,2,3,4,5,6,7,8,9,2.5,3.5,4.5,16.5,5.5,15.5,6.5,14.5,13.5,7.5,8.5,12.5', 'Lining Material:Textile', 'Series:Nike Air Force 1']}, {'name': 'Nike Air Jordan 3 Retro M - Summit White/Fire Red/Black/Cement Grey', 'url': 'https://www.klarna.com/us/shopping/pl/cl337/3205014097/Shoes/Nike-Air-Jordan-3-Retro-M-Summit-White-Fire-Red-Black-Cement-Grey/?utm_source=openai&ref-site=openai_plugin', 'price': '$159.98', 'attributes': ['Outsole:Rubber', 'Fastening:Laced', 'Target Group:Man', 'Color:White', 'Upper Material:Leather', 'Size (US):9.5,10,11,12,13,14,15,16,17,18,11.5,10.5,2,3,4,5,6,7,8,9,2.5,3.5,4.5,16.5,5.5,15.5,6.5,14.5,13.5,7.5,8.5,12.5', 'Lining Material:Textile', 'Series:Nike Air Jordan 3,Nike Air Jordan']}]}\n"
     ]
    }
   ],
   "source": [
    "print(query_response)"
   ]
  },
  {
   "cell_type": "code",
   "execution_count": 155,
   "id": "fb7fee2f-16bd-4a8c-b2b6-51c8fbe6e9b2",
   "metadata": {
    "scrolled": true,
    "tags": []
   },
   "outputs": [],
   "source": [
    "template = \"Translate the following API response into a concise, consistent, and human-readable sentence, that answer a customer's question about a Klarna product or products.  The product name, its price, and the link to view or purchase it online should be available to the user.\""
   ]
  },
  {
   "cell_type": "code",
   "execution_count": 156,
   "id": "bbc5c660-73ce-4857-9522-107e19720fb6",
   "metadata": {},
   "outputs": [],
   "source": [
    "system_message_prompt = SystemMessagePromptTemplate.from_template(template)"
   ]
  },
  {
   "cell_type": "code",
   "execution_count": 157,
   "id": "c7256442-31ba-470a-bb2b-c9856bae4af2",
   "metadata": {},
   "outputs": [],
   "source": [
    "human_template = \"{question}-----{json_text}\"\n",
    "human_message_prompt = HumanMessagePromptTemplate.from_template(human_template)\n",
    "\n",
    "chat_prompt = ChatPromptTemplate.from_messages([system_message_prompt, human_message_prompt])\n",
    "chain = LLMChain(\n",
    "    llm=ChatOpenAI(),\n",
    "    prompt=chat_prompt\n",
    ")"
   ]
  },
  {
   "cell_type": "code",
   "execution_count": 158,
   "id": "bcc9cf29-bd28-4f80-be0e-8619b5f0ff1e",
   "metadata": {},
   "outputs": [
    {
     "data": {
      "text/plain": [
       "\"The most recommended shoe brand is Nike. Some popular Nike shoes include the Jordan Retro Mens Shoes priced at $209.99, the Nike Dunk Low W - White/Black priced at $110.00, the Nike Dunk Low Panda M - Black/White priced at $124.00, and the Nike Air Force 1 '07 M - White priced at $76.50. You can view or purchase these shoes online using the provided links.\""
      ]
     },
     "execution_count": 158,
     "metadata": {},
     "output_type": "execute_result"
    }
   ],
   "source": [
    "chain.run(question=question, json_text=str(query_response))"
   ]
  },
  {
   "cell_type": "code",
   "execution_count": null,
   "id": "17ee13be-de32-42d2-b585-d44260a4ddf7",
   "metadata": {},
   "outputs": [],
   "source": []
  }
 ],
 "metadata": {
  "kernelspec": {
   "display_name": ".venv",
   "language": "python",
   "name": ".venv"
  },
  "language_info": {
   "codemirror_mode": {
    "name": "ipython",
    "version": 3
   },
   "file_extension": ".py",
   "mimetype": "text/x-python",
   "name": "python",
   "nbconvert_exporter": "python",
   "pygments_lexer": "ipython3",
   "version": "3.9.12"
  }
 },
 "nbformat": 4,
 "nbformat_minor": 5
}
